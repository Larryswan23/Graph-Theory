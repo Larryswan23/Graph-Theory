{
 "cells": [
  {
   "cell_type": "markdown",
   "id": "68c0e362",
   "metadata": {},
   "source": [
    "<h1>Heap Sort</h1>\n",
    "\n"
   ]
  },
  {
   "cell_type": "markdown",
   "id": "39cd8b9c",
   "metadata": {},
   "source": [
    "<p>The Heapsort algorithm is a comparison based sorting algorithm.\n",
    "    This algorithm uses a specialized tree based data structure known as heaps.\n",
    "    \n",
    "    The first node in every tree is called the root node this node will be the main location used when sorting the array.\n",
    "    Heaps can also have different properties called a max heap and a min heap.\n",
    "    \n",
    "    \n",
    "   A Max heap is when the child node is less than or equal to the parent \n",
    "    \n",
    "   A Min heap is when the child node is greater than or equal to the parent \n",
    "    \n",
    "    \n",
    "    When usign heaps in the heapsort algorithm the heap that will be used will haev an extra condition and that is that the         heap will be a binary heap this ensures that each parent node will have exactly 2 children nodes this allows the sorting\n",
    "    to be much more predictable \n",
    "    \n",
    "    \n",
    "    \n",
    "    \n",
    "    \n",
    "<p>\n",
    "    "
   ]
  },
  {
   "cell_type": "markdown",
   "id": "927edfaa",
   "metadata": {},
   "source": [
    "<p>\n",
    "    To do a heap-sort we take an array of n length, get each of its parents and check to see if any of its children are greater than the parent if not we should change nothing. We swap the child with the parent and then check the new children of the parent to see if a change needs to be made.\n",
    "This is called heapify. Once there can be no more changes to the array we convert it into a max-heap. Taking this max-heap we swap the last node with the first node and reduce its alterable size by 1 then we repeat this process until there are no more alterable spaces left.\n",
    "<p>"
   ]
  },
  {
   "cell_type": "markdown",
   "id": "38950038",
   "metadata": {},
   "source": [
    "<h2>Python function implementing Heap Sort.</h2>\n"
   ]
  },
  {
   "cell_type": "code",
   "execution_count": 1,
   "id": "ff453de0",
   "metadata": {},
   "outputs": [
    {
     "name": "stdout",
     "output_type": "stream",
     "text": [
      "Please Input Integers:\n",
      "4 5 6 3 8 7\n",
      "\n",
      "\n",
      "Sorted array is:\n",
      "3 4 5 6 7 8 "
     ]
    }
   ],
   "source": [
    "def Heapify(array, length, location):\n",
    "    head = location\n",
    "    Child1 = 2 * location + 1 \n",
    "    Child2 = 2 * location + 2 \n",
    "    if Child1 < length and arr[head] < arr[Child1]:\n",
    "        head = Child1\n",
    "    if Child2 < length and arr[head] < arr[Child2Child2]:\n",
    "        head = Child2\n",
    "    if head != location:\n",
    "        array[location], array[head] = array[head], array[location]\n",
    "        Heapify(array, length, head)\n",
    "        \n",
    "def HeapSort(array):\n",
    "    length = len(array)\n",
    "    for i in range(length//2 - 1, -1, -1):\n",
    "        Heapify(array, length, i)\n",
    "    for i in range(length - 1, 0, -1):\n",
    "        array[i], array[0] = array[0], array[i] \n",
    "        Heapify(array, i, 0)\n",
    "        \n",
    "print(\"Enter Integers:\")\n",
    "arr = input().split(\" \")\n",
    "n = len(arr)\n",
    "\n",
    "for i in range(n):\n",
    "    arr[i] = int(arr[i])\n",
    "HeapSort(arr)\n",
    "\n",
    "print(\"\\n\\nSorted:\")\n",
    "for i in range(n):\n",
    "    print(\"%d\" % arr[i], end=\" \")"
   ]
  },
  {
   "cell_type": "markdown",
   "id": "7870ff28",
   "metadata": {},
   "source": [
    "<h1>Rooted Binary Tree</h1>\n"
   ]
  },
  {
   "cell_type": "markdown",
   "id": "cc134128",
   "metadata": {},
   "source": [
    "<p>\n",
    "    A Rooted binary tree is when a binary tree has a root that is the only node that is allowed to have degree 2 and can only have 2 child nodes also all the remaining nodes must have a degree equal to 1 or 3.\n",
    "    \n",
    "Rooted trees are found in many applications where there are hierarchies For example computer file systems or hierarchically based organizations such as the military and coporate.\n",
    "\n",
    "\n",
    "\n",
    "<p>"
   ]
  },
  {
   "cell_type": "markdown",
   "id": "14f21d92",
   "metadata": {},
   "source": [
    "<h1>Why heap-sort is more efficient than bubble sort in the worst case\n",
    "</h1>"
   ]
  },
  {
   "cell_type": "markdown",
   "id": "9db91271",
   "metadata": {},
   "source": [
    "<p>\n",
    " In heap sort the time taken to sort is increaded logarithmically as the number of items is increased this suggests that heap sort is very suitable for sorting very large amounts of data \n",
    "   \n",
    "Unlike heap-sort in bubble sort each element is compared to its adjacent element and then their position is interchanged this process is repeated over and over again until the element has been compared to all the others and this will have to be repeated for every element.\n",
    "\n",
    "Therefore in cases of extremely large numbers of listed items heap-sort is much more efficient as in bubble sort you could be comparing thousands of elements to one element before you can move on to another. Giving it a much slower execution time\n",
    "    \n",
    "\n",
    "\n",
    "<p>"
   ]
  }
 ],
 "metadata": {
  "kernelspec": {
   "display_name": "Python 3 (ipykernel)",
   "language": "python",
   "name": "python3"
  },
  "language_info": {
   "codemirror_mode": {
    "name": "ipython",
    "version": 3
   },
   "file_extension": ".py",
   "mimetype": "text/x-python",
   "name": "python",
   "nbconvert_exporter": "python",
   "pygments_lexer": "ipython3",
   "version": "3.9.7"
  }
 },
 "nbformat": 4,
 "nbformat_minor": 5
}
