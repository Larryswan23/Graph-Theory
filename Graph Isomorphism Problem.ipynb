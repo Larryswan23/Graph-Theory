{
 "cells": [
  {
   "cell_type": "markdown",
   "id": "165dcd7c",
   "metadata": {},
   "source": [
    "<h1>Graph Isomorphism Problem Notebook</h1>"
   ]
  },
  {
   "cell_type": "markdown",
   "id": "7596746f",
   "metadata": {},
   "source": [
    "<p>Essentially the graph Isomorphism problem is whether an algorithm can detect if two graphs are the same graph but in disguise. This has proven to be reoccuring problem with special status throughtout the years in computer science. This problem holds a special status as it is one of the naturally occurring problems where it is very difficult to locate teh exact issue </p>"
   ]
  },
  {
   "cell_type": "markdown",
   "id": "377646a0",
   "metadata": {},
   "source": [
    "<h1>Explanation of how graphs can be represented in data structures</h1>"
   ]
  },
  {
   "cell_type": "markdown",
   "id": "9ffeed1d",
   "metadata": {},
   "source": [
    "<p>Graphs can be represented with three different ways the Adjacency Matrix , Incidence Matrix and the Adjacency List</p>"
   ]
  },
  {
   "cell_type": "markdown",
   "id": "11d464ce",
   "metadata": {},
   "source": [
    "<p>Adjacency Matrix- sequentially represents each nodes that are ajacent to each other \n",
    "    \n",
    "Incidence Matrix-Represents graphs using a marix of size by determining the total number of edges by the total number of vertices for example 4X4 matrix is equal to 4 vertices and 4 edges\n",
    "\n",
    "Adjacency List-Collection of lists that represent graphs each list then describes its set of neighbours of a vertex in the graph</p>"
   ]
  },
  {
   "cell_type": "markdown",
   "id": "9a40f93e",
   "metadata": {},
   "source": [
    "<h1>Python function implementing an algorithm to determine if two graphs are isomorphic or not.</h1>"
   ]
  },
  {
   "cell_type": "code",
   "execution_count": 1,
   "id": "2ee46102",
   "metadata": {},
   "outputs": [
    {
     "name": "stderr",
     "output_type": "stream",
     "text": [
      "Matplotlib is building the font cache; this may take a moment.\n"
     ]
    }
   ],
   "source": [
    "import matplotlib.pyplot as plt\n",
    "import numpy as np\n",
    "import itertools as it\n",
    "import networkx as nx\n",
    "import math"
   ]
  },
  {
   "cell_type": "code",
   "execution_count": 7,
   "id": "53ef626e",
   "metadata": {},
   "outputs": [],
   "source": [
    "plt.rcParams['figure.figsize'] = (12, 6)"
   ]
  },
  {
   "cell_type": "code",
   "execution_count": 6,
   "id": "e473cce4",
   "metadata": {},
   "outputs": [],
   "source": [
    "params = {'node_color': 'red', 'node_size':800, 'font_size': 18, 'with_labels':True}"
   ]
  },
  {
   "cell_type": "code",
   "execution_count": 8,
   "id": "e11f6fe5",
   "metadata": {},
   "outputs": [],
   "source": [
    "G = nx.Graph()"
   ]
  },
  {
   "cell_type": "code",
   "execution_count": 9,
   "id": "8f405c06",
   "metadata": {},
   "outputs": [],
   "source": [
    "E = ((1, 1), (1, 2), (0, 2))"
   ]
  },
  {
   "cell_type": "code",
   "execution_count": 10,
   "id": "65bd2139",
   "metadata": {},
   "outputs": [],
   "source": [
    "G.add_edges_from(E)"
   ]
  },
  {
   "cell_type": "code",
   "execution_count": 11,
   "id": "8f230f35",
   "metadata": {},
   "outputs": [
    {
     "data": {
      "image/png": "[encoded data removed]",
      "text/plain": [
       "<Figure size 864x432 with 1 Axes>"
      ]
     },
     "metadata": {},
     "output_type": "display_data"
    }
   ],
   "source": [
    "nx.draw_circular(G, **params)"
   ]
  },
  {
   "cell_type": "code",
   "execution_count": 12,
   "id": "7e1b86a6",
   "metadata": {},
   "outputs": [
    {
     "name": "stdout",
     "output_type": "stream",
     "text": [
      "[[0. 1. 1.]\n",
      " [1. 0. 1.]\n",
      " [1. 1. 0.]]\n"
     ]
    }
   ],
   "source": [
    "# The adjacency matrix of G.\n",
    "print(nx.to_numpy_array(G))"
   ]
  },
  {
   "cell_type": "code",
   "execution_count": 13,
   "id": "ee3565a7",
   "metadata": {},
   "outputs": [
    {
     "name": "stdout",
     "output_type": "stream",
     "text": [
      "[[0 1 1]\n",
      " [1 0 1]\n",
      " [1 1 0]]\n"
     ]
    }
   ],
   "source": [
    "# Convert it to unsigned 8 bit integers (for no good reason).\n",
    "A = nx.to_numpy_array(G).astype(np.uint8)\n",
    "print(A)"
   ]
  },
  {
   "cell_type": "code",
   "execution_count": 14,
   "id": "a7015bfd",
   "metadata": {},
   "outputs": [
    {
     "name": "stdout",
     "output_type": "stream",
     "text": [
      "[[0 1 1]\n",
      " [1 0 1]\n",
      " [1 1 0]]\n"
     ]
    }
   ],
   "source": [
    "# The transpose of A.\n",
    "print(A.T)"
   ]
  },
  {
   "cell_type": "code",
   "execution_count": 15,
   "id": "e43353d5",
   "metadata": {},
   "outputs": [
    {
     "name": "stdout",
     "output_type": "stream",
     "text": [
      "[[ True  True  True]\n",
      " [ True  True  True]\n",
      " [ True  True  True]]\n"
     ]
    }
   ],
   "source": [
    "# All entries of A and its transpose are the same.\n",
    "print(A.T == A)"
   ]
  },
  {
   "cell_type": "code",
   "execution_count": 16,
   "id": "8817b802",
   "metadata": {},
   "outputs": [],
   "source": [
    "# A slightly cleaner way to print (binary) matrices.\n",
    "def matrix_print(A):\n",
    "  # Loop through rows of A.\n",
    "  for r in A:\n",
    "    # Print the current row, removing the brackets numpy puts in.\n",
    "    print(str(r)[1:-1])\n",
    "  # Print a blank line.\n",
    "  print()"
   ]
  },
  {
   "cell_type": "code",
   "execution_count": 17,
   "id": "e5fd8a5c",
   "metadata": {
    "scrolled": true
   },
   "outputs": [
    {
     "name": "stdout",
     "output_type": "stream",
     "text": [
      "0 1 1\n",
      "1 0 1\n",
      "1 1 0\n",
      "\n"
     ]
    }
   ],
   "source": [
    "matrix_print(A)"
   ]
  },
  {
   "cell_type": "markdown",
   "id": "a25e3b0e",
   "metadata": {},
   "source": [
    "<h1>Discussion of the computational complexity of the Graph Isomorphism Problem</h1>"
   ]
  },
  {
   "cell_type": "markdown",
   "id": "712d2900",
   "metadata": {},
   "source": [
    "<p>    </p>"
   ]
  }
 ],
 "metadata": {
  "kernelspec": {
   "display_name": "Python 3 (ipykernel)",
   "language": "python",
   "name": "python3"
  },
  "language_info": {
   "codemirror_mode": {
    "name": "ipython",
    "version": 3
   },
   "file_extension": ".py",
   "mimetype": "text/x-python",
   "name": "python",
   "nbconvert_exporter": "python",
   "pygments_lexer": "ipython3",
   "version": "3.9.7"
  }
 },
 "nbformat": 4,
 "nbformat_minor": 5
}
