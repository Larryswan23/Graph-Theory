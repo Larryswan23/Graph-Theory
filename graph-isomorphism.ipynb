{
 "cells": [
  {
   "cell_type": "markdown",
   "id": "182d973b",
   "metadata": {},
   "source": [
    "<h1>Explanation of the Graph Isomorphism Problem</h1>"
   ]
  },
  {
   "cell_type": "markdown",
   "id": "1c5efc5b",
   "metadata": {},
   "source": [
    "<p>Essentially the graph Isomorphism problem is whether an algorithm can detect if two graphs are the same graph but in disguise. This has proven to be reoccuring problem with special status throughtout the years in computer science. This problem holds a special status as it is one of the naturally occurring problems where it is very difficult to locate teh exact issue </p>"
   ]
  },
  {
   "cell_type": "markdown",
   "id": "4ea4b89e",
   "metadata": {},
   "source": [
    "<h1>Definition of graph isomorphism.</h1>"
   ]
  },
  {
   "cell_type": "markdown",
   "id": "6c668d23",
   "metadata": {},
   "source": [
    "<p>Graph isomorphism is an equivalence relation on graphs.\n",
    "    \n",
    "    \n",
    " If two graphs contain the same number of graph vertices connected in the same manner, they are said to be isomorphic.\n",
    " Graph isomorphism is the equivalence relation used to determine if two graph vertices are connected in the same manner. <p>"
   ]
  },
  {
   "cell_type": "markdown",
   "id": "93b7f933",
   "metadata": {},
   "source": [
    "<h1>Python function implementing an algorithm to determine if two graphs are isomorphic or not.</h1>"
   ]
  },
  {
   "cell_type": "code",
   "execution_count": 1,
   "id": "319043c7",
   "metadata": {},
   "outputs": [
    {
     "name": "stderr",
     "output_type": "stream",
     "text": [
      "Matplotlib is building the font cache; this may take a moment.\n"
     ]
    }
   ],
   "source": [
    "import networkx as nx\n",
    "import numpy as np\n",
    "import matplotlib as plt\n",
    "import itertools as it"
   ]
  },
  {
   "cell_type": "code",
   "execution_count": null,
   "id": "3d9eccac",
   "metadata": {},
   "outputs": [],
   "source": [
    "def convertGraph(G): \n",
    "    return nx.to_numpy_array(G).astype(np.uint8)"
   ]
  },
  {
   "cell_type": "code",
   "execution_count": null,
   "id": "14a77ec2",
   "metadata": {},
   "outputs": [],
   "source": [
    "class Check(object): \n",
    "    def init(iso, G1, G2): \n",
    "        iso.G1 = G1\n",
    "        iso.G2 = G2\n",
    "        iso.n = G1.number_of_nodes()\n",
    "        assert iso.n == G2.number_of_nodes() \n",
    "\n",
    "        iso.M1 = convertGraph(G1)\n",
    "        iso.M2 = convertGraph(G2)\n",
    "    \n",
    "    def getPermutations(iso): \n",
    "        iso.perms = it.permutations(range(iso.n))\n",
    "        \n",
    "    def Check_isomorphic(iso):\n",
    "        Identity = np.identity(iso.n, dtype=np.uint8)\n",
    "        for p in iso.perms: \n",
    "            Pmat = Identity[list(p)] \n",
    "            if np.all(iso.M1 == iso.M2 @ Pmat):\n",
    "                return True\n",
    "        return False "
   ]
  },
  {
   "cell_type": "code",
   "execution_count": null,
   "id": "537eb9f6",
   "metadata": {},
   "outputs": [],
   "source": [
    "\n",
    "G1 = nx.Graph()\n",
    "G2 = nx.Graph()\n",
    "Set1 = ((0,1),(1,2),(1,3),(2,3))\n",
    "Set2 = ((0,1),(0,2),(1,3),(2,3))\n",
    "G1.add_edges_from(Set1)\n",
    "G2.add_edges_from(Set2)\n",
    "\n",
    "c = Check(G1, G2)\n",
    "c.getPermutations()\n",
    "print(c.Check_isomorphic()) \n",
    "\n",
    "G2 = nx.Graph()\n",
    "G2.add_edges_from(Set1)\n",
    "c = Check(G1, G2)\n",
    "c.getPermutations()\n",
    "print(c.Check_isomorphic()) "
   ]
  },
  {
   "cell_type": "markdown",
   "id": "f48f838e",
   "metadata": {},
   "source": [
    "<h1>Explanation of the main reason computer scientists are interested in the complexity of\n",
    "the Graph Isomorphism Problem.</h1>"
   ]
  },
  {
   "cell_type": "markdown",
   "id": "ba0e1172",
   "metadata": {},
   "source": [
    "<p>\n",
    "Upon research into why computer scientists are interested into this problem i have found that the main reason for the interest is because of a discovery made in 2015.In November of 2015 a theoretical computer scientist presented an algorithm tht was being hailed as a breakthrouh in mapping the obscure terrain of complexity theory.This new algorithm proved to be more efficient than the previous best and therefore breaking a 30 year impasse in the study.Until this study was found the graph isomorphism problem had held a special status within complexity theory as one of the two famous problems that were in the grey area or seemign easier than the hard problems but harded than the easier problems.\n",
    "\n",
    "\n",
    "<p>"
   ]
  }
 ],
 "metadata": {
  "kernelspec": {
   "display_name": "Python 3 (ipykernel)",
   "language": "python",
   "name": "python3"
  },
  "language_info": {
   "codemirror_mode": {
    "name": "ipython",
    "version": 3
   },
   "file_extension": ".py",
   "mimetype": "text/x-python",
   "name": "python",
   "nbconvert_exporter": "python",
   "pygments_lexer": "ipython3",
   "version": "3.9.7"
  }
 },
 "nbformat": 4,
 "nbformat_minor": 5
}
