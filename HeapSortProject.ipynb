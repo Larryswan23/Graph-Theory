{
 "cells": [
  {
   "cell_type": "markdown",
   "id": "0d6b0597",
   "metadata": {},
   "source": [
    "<h1>Heap Sort</h1>"
   ]
  },
  {
   "cell_type": "markdown",
   "id": "74a1c3a9",
   "metadata": {},
   "source": [
    "<p>The Heapsort algorithm is a comparison based sorting algorithm.Heapsort is essentially an improved version of a selection sort.The method that this algorithm is ran  by is first turning the list into a max heap.The algorithm then swaps the first value  with the last over and over again and then it decreases the range of values consided by one and then it will shift the new first value into its new position within the heap\n",
    "</p>\n",
    "    "
   ]
  },
  {
   "cell_type": "markdown",
   "id": "884d42ae",
   "metadata": {},
   "source": [
    "<h1>Python function implementing Heap Sort.</h1>"
   ]
  },
  {
   "cell_type": "code",
   "execution_count": 1,
   "id": "4c52c630",
   "metadata": {},
   "outputs": [],
   "source": [
    "import math"
   ]
  },
  {
   "cell_type": "code",
   "execution_count": 2,
   "id": "178db422",
   "metadata": {},
   "outputs": [],
   "source": [
    "\n",
    "def siftDown(L, parent, end):\n",
    "    \"\"\"L end + 1 should almost be a max heap siftdown repair it so that its one\"\"\"   \n",
    "    while (2 * parent + 1) <= end:  \n",
    "        lchild = 2 * parent + 1\n",
    "        rchild = 2 * parent + 2\n",
    "        swap = parent\n",
    "          \n",
    "        if L[swap] < L[leftchild]:\n",
    "         \n",
    "            swap = lchild\n",
    "    \n",
    "        if rchild + 1 <= end and L[swap] < L[rchild + 1]:\n",
    "        swap = rchild + 1\n",
    "     \n",
    "        if swap == parent:  \n",
    "            return\n",
    "        else:\n",
    "           \n",
    "            L[parent], L[swap] = L[swap], L[parent]\n",
    "           \n",
    "            parent = swap"
   ]
  },
  {
   "cell_type": "code",
   "execution_count": 3,
   "id": "bbc84615",
   "metadata": {},
   "outputs": [],
   "source": [
    "def heapsort (L):\n",
    "    \"\"\"Sorts list L in place using heap sort\"\"\"    \n",
    "    last_element = len(L) - 1\n",
    "    \n",
    "    last_parent = (last_element - 1) // 2 #heapify removed above \n",
    "        \n",
    "    for parent in range(last_parent, -1, -1):\n",
    "        siftDown(L, parent, last_element)\n",
    "        \n",
    "    end = last_element   \n",
    "    \n",
    "    for end in range(last_element, 0, -1):\n",
    "        L[0], L[end] = L[end], L[0] \n",
    "        siftDown(L, 0, end - 1)"
   ]
  },
  {
   "cell_type": "code",
   "execution_count": 4,
   "id": "01f9e1c9",
   "metadata": {},
   "outputs": [
    {
     "data": {
      "text/plain": [
       "[19, 100, 36, 25, 3, 17, 7, 1, 2]"
      ]
     },
     "execution_count": 4,
     "metadata": {},
     "output_type": "execute_result"
    }
   ],
   "source": [
    "L = [19, 100, 36, 25, 3, 17, 7, 1, 2]\n",
    "L"
   ]
  },
  {
   "cell_type": "code",
   "execution_count": 5,
   "id": "86db2825",
   "metadata": {},
   "outputs": [
    {
     "data": {
      "text/plain": [
       "[1, 36, 2, 3, 7, 17, 19, 25, 100]"
      ]
     },
     "execution_count": 5,
     "metadata": {},
     "output_type": "execute_result"
    }
   ],
   "source": [
    "heapsort(L)\n",
    "L"
   ]
  },
  {
   "cell_type": "markdown",
   "id": "ecd45840",
   "metadata": {},
   "source": [
    "<h1>• Explanation of the computational complexity of Heap Sort.\n",
    "</h1>"
   ]
  },
  {
   "cell_type": "markdown",
   "id": "ec9c8b5c",
   "metadata": {},
   "source": [
    "<p>The heapsort algorithm itself has O(n log n) time complexity having this means very little with regards to any affect on the actual algorithm. It more provides data for us to make estimations on the running time of the algorithm we are implementing</p>"
   ]
  },
  {
   "cell_type": "markdown",
   "id": "9f7195aa",
   "metadata": {},
   "source": [
    "<h1>• Explanation of how graph theory is used in Heap Sort.</h1>"
   ]
  },
  {
   "cell_type": "markdown",
   "id": "f9642c5c",
   "metadata": {},
   "source": [
    "<p>HeapSort uses a Binary Heap Tree Structure witch is inheritally simular to that of a Graph knowing this we can use our knowledge of graph theory and map the locations of each tree node on a graph  </p>"
   ]
  },
  {
   "cell_type": "code",
   "execution_count": null,
   "id": "1361d2cf",
   "metadata": {},
   "outputs": [],
   "source": []
  }
 ],
 "metadata": {
  "kernelspec": {
   "display_name": "Python 3 (ipykernel)",
   "language": "python",
   "name": "python3"
  },
  "language_info": {
   "codemirror_mode": {
    "name": "ipython",
    "version": 3
   },
   "file_extension": ".py",
   "mimetype": "text/x-python",
   "name": "python",
   "nbconvert_exporter": "python",
   "pygments_lexer": "ipython3",
   "version": "3.9.7"
  }
 },
 "nbformat": 4,
 "nbformat_minor": 5
}
